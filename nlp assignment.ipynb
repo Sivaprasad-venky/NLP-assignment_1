{
 "cells": [
  {
   "cell_type": "code",
   "execution_count": null,
   "id": "13d37e4c-70e1-4d82-93a1-cbca59112cfc",
   "metadata": {},
   "outputs": [
    {
     "name": "stdin",
     "output_type": "stream",
     "text": [
      "Enter text to translate:  Hi this is siva prasad .This is a project \n",
      "Enter target language code (e.g., 'es' for Spanish, 'fr' for French):  te\n"
     ]
    },
    {
     "name": "stdout",
     "output_type": "stream",
     "text": [
      "Translated Text (te): హాయ్ ఇది శివ ప్రసాద్ .ఇది ఒక ప్రాజెక్ట్\n"
     ]
    }
   ],
   "source": [
    "from googletrans import Translator\n",
    "translator = Translator()\n",
    "\n",
    "def translate_text(text, target_language):\n",
    "    translated = translator.translate(text, dest=target_language)\n",
    "    return translated.text\n",
    "\n",
    "while True:\n",
    "    text = input(\"Enter text to translate: \").strip()\n",
    "    if text.lower() == \"exit\":\n",
    "        print(\"Goodbye!\")\n",
    "        break\n",
    "    \n",
    "    target_lang = input(\"Enter target language code (e.g., 'es' for Spanish, 'fr' for French): \").strip()\n",
    "    translation = translate_text(text, target_lang)\n",
    "    \n",
    "    print(f\"Translated Text ({target_lang}): {translation}\")\n"
   ]
  },
  {
   "cell_type": "code",
   "execution_count": null,
   "id": "06acb4ae-7aaa-401b-8472-cf60fb414ecd",
   "metadata": {},
   "outputs": [],
   "source": []
  },
  {
   "cell_type": "code",
   "execution_count": null,
   "id": "d148dd6e-dd1a-4632-b5e8-7f8c0d55aaf2",
   "metadata": {},
   "outputs": [],
   "source": []
  }
 ],
 "metadata": {
  "kernelspec": {
   "display_name": "Python 3 (ipykernel)",
   "language": "python",
   "name": "python3"
  },
  "language_info": {
   "codemirror_mode": {
    "name": "ipython",
    "version": 3
   },
   "file_extension": ".py",
   "mimetype": "text/x-python",
   "name": "python",
   "nbconvert_exporter": "python",
   "pygments_lexer": "ipython3",
   "version": "3.12.4"
  }
 },
 "nbformat": 4,
 "nbformat_minor": 5
}
